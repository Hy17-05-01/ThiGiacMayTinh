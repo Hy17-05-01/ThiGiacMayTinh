{
 "cells": [
  {
   "cell_type": "code",
   "execution_count": null,
   "id": "9170a4af",
   "metadata": {},
   "outputs": [],
   "source": []
  },
  {
   "cell_type": "code",
   "execution_count": 10,
   "id": "f911032e",
   "metadata": {},
   "outputs": [],
   "source": [
    "import cv2\n",
    "import matplotlib.pyplot as plt\n",
    "import os\n",
    "import numpy as np"
   ]
  },
  {
   "cell_type": "code",
   "execution_count": 11,
   "id": "dfb13bdd",
   "metadata": {},
   "outputs": [],
   "source": [
    "base_dir = os.getcwd()\n",
    "data_folder = os.path.join(base_dir, \"Dataset\")\n",
    "\n",
    "images_folder = os.path.join(data_folder, \"Images\")\n",
    "crops_folder = os.path.join(data_folder, \"Crops\")\n",
    "sample_testset = os.path.join(data_folder, \"sample_testset\")\n",
    "\n",
    "sample_images = os.path.join(sample_testset, \"images\")\n",
    "sample_crops = os.path.join(sample_testset, \"crops\")"
   ]
  },
  {
   "cell_type": "code",
   "execution_count": 12,
   "id": "26429089",
   "metadata": {},
   "outputs": [],
   "source": [
    "def bruteForceSIFT(img1, img2):\n",
    "    \n",
    "    sift = cv2.xfeatures2d.SIFT_create()\n",
    "    \n",
    "    kp1, des1 = sift.detectAndCompute(img1, None)\n",
    "    kp2, des2 = sift.detectAndCompute(img2, None)\n",
    "    \n",
    "    bf = cv2.BFMatcher()\n",
    "    matches = bf.knnMatch(des1, des2, k=2)\n",
    "    good = []\n",
    "    print(len(matches))\n",
    "    for match1, match2 in matches:\n",
    "        if match1.distance < 0.75 * match2.distance:\n",
    "            good.append([match1])\n",
    "            \n",
    "    sift_matches = cv2.drawMatchesKnn(img1, kp1, img2, kp2, good, None, flags=2)\n",
    "    \n",
    "    sift_matches = cv2.cvtColor(sift_matches, cv2.COLOR_BGR2RGB)\n",
    "    \n",
    "    print(len(good))\n",
    "    plt.imshow(sift_matches)\n",
    "    plt.show()\n",
    "    return (kp1, kp2)\n",
    "\n",
    "\n"
   ]
  },
  {
   "cell_type": "code",
   "execution_count": 13,
   "id": "0b1ae836",
   "metadata": {},
   "outputs": [],
   "source": [
    "def bruteForceORB(img1, img2):\n",
    "    orb = cv2.ORB_create()\n",
    "    kp1, des1 = orb.detectAndCompute(img1,None)\n",
    "    kp2, des2 = orb.detectAndCompute(img2,None)\n",
    "\n",
    "    bf = cv2.BFMatcher(cv2.NORM_HAMMING, crossCheck=True)\n",
    "    \n",
    "    matches = bf.match(des1, des2)\n",
    "    \n",
    "    matches = sorted(matches, key = lambda x:x.distance)\n",
    "    \n",
    "    orb_matches = cv2.drawMatches(img1, kp1, img2, kp2,matches[:10], None,\n",
    "                          flags=cv2.DrawMatchesFlags_NOT_DRAW_SINGLE_POINTS)\n",
    "   \n",
    "    orb_matches = cv2.cvtColor(orb_matches, cv2.COLOR_BGR2RGB)\n",
    "    plt.imshow(orb_matches)\n",
    "    plt.show()\n",
    "    \n",
    "    return matches[:10]"
   ]
  },
  {
   "cell_type": "code",
   "execution_count": 14,
   "id": "1460120a",
   "metadata": {},
   "outputs": [],
   "source": [
    "def FLANN(img1, img2):\n",
    "    FLANN_INDEX_KDTREE = 1\n",
    "    index_params = dict(algorithm = FLANN_INDEX_KDTREE, trees = 5)    \n",
    "    search_params = dict(checks=10)\n",
    "    \n",
    "    sift = cv2.xfeatures2d.SIFT_create()\n",
    "    \n",
    "    kp1, des1 = sift.detectAndCompute(img1, None)\n",
    "    kp2, des2 = sift.detectAndCompute(img2, None)\n",
    "    \n",
    "    flann = cv2.FlannBasedMatcher(index_params,search_params)\n",
    "    matches = flann.knnMatch(des1,des2,k=2)\n",
    "    \n",
    "    matchesMask = [[0,0] for i in range(len(matches))]\n",
    "\n",
    "    for i,(m,n) in enumerate(matches):\n",
    "        if m.distance < 0.7*n.distance:\n",
    "            matchesMask[i]=[1,0]\n",
    "\n",
    "    draw_params = dict(matchColor = (0,255,0),\n",
    "                   matchesMask = matchesMask,\n",
    "                   flags = cv2.DrawMatchesFlags_DEFAULT)\n",
    "    \n",
    "    flann_matches = cv2.drawMatchesKnn(img1,kp1,img2,kp2,matches,None,**draw_params)\n",
    "    \n",
    "    orb_matches = cv2.cvtColor(flann_matches, cv2.COLOR_BGR2RGB)\n",
    "    plt.imshow(orb_matches)\n",
    "    plt.show()\n",
    "    \n",
    "    return matches[:10]"
   ]
  },
  {
   "cell_type": "code",
   "execution_count": 15,
   "id": "85946727",
   "metadata": {},
   "outputs": [
    {
     "ename": "NameError",
     "evalue": "name 'crop_img' is not defined",
     "output_type": "error",
     "traceback": [
      "\u001b[1;31m---------------------------------------------------------------------------\u001b[0m",
      "\u001b[1;31mNameError\u001b[0m                                 Traceback (most recent call last)",
      "\u001b[1;32m~\\AppData\\Local\\Temp\\ipykernel_484\\4210371853.py\u001b[0m in \u001b[0;36m<module>\u001b[1;34m\u001b[0m\n\u001b[1;32m----> 1\u001b[1;33m \u001b[0mmatches_sift\u001b[0m \u001b[1;33m=\u001b[0m \u001b[0mbruteForceSIFT\u001b[0m\u001b[1;33m(\u001b[0m\u001b[0mcrop_img\u001b[0m\u001b[1;33m,\u001b[0m \u001b[0mimg\u001b[0m\u001b[1;33m)\u001b[0m\u001b[1;33m\u001b[0m\u001b[1;33m\u001b[0m\u001b[0m\n\u001b[0m\u001b[0;32m      2\u001b[0m \u001b[1;33m\u001b[0m\u001b[0m\n\u001b[0;32m      3\u001b[0m \u001b[0mmatches_orb\u001b[0m \u001b[1;33m=\u001b[0m \u001b[0mbruteForceORB\u001b[0m\u001b[1;33m(\u001b[0m\u001b[0mcrop_img\u001b[0m\u001b[1;33m,\u001b[0m \u001b[0mimg\u001b[0m\u001b[1;33m)\u001b[0m\u001b[1;33m\u001b[0m\u001b[1;33m\u001b[0m\u001b[0m\n\u001b[0;32m      4\u001b[0m \u001b[1;33m\u001b[0m\u001b[0m\n\u001b[0;32m      5\u001b[0m \u001b[1;33m\u001b[0m\u001b[0m\n",
      "\u001b[1;31mNameError\u001b[0m: name 'crop_img' is not defined"
     ]
    }
   ],
   "source": [
    "\n",
    " "
   ]
  },
  {
   "cell_type": "code",
   "execution_count": null,
   "id": "198ec915",
   "metadata": {},
   "outputs": [],
   "source": []
  }
 ],
 "metadata": {
  "kernelspec": {
   "display_name": "Python 3 (ipykernel)",
   "language": "python",
   "name": "python3"
  },
  "language_info": {
   "codemirror_mode": {
    "name": "ipython",
    "version": 3
   },
   "file_extension": ".py",
   "mimetype": "text/x-python",
   "name": "python",
   "nbconvert_exporter": "python",
   "pygments_lexer": "ipython3",
   "version": "3.9.13"
  }
 },
 "nbformat": 4,
 "nbformat_minor": 5
}
