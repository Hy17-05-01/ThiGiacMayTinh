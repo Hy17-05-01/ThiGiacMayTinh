{
 "cells": [
  {
   "cell_type": "code",
   "execution_count": 1,
   "id": "be3038a8",
   "metadata": {},
   "outputs": [],
   "source": [
    "import cv2\n",
    "\n",
    "img1 = cv2.imread('yona.jpg')\n",
    "img2 = cv2.imread('xoay_yona.jpg')\n",
    "\n",
    "orb = cv2.ORB_create(nfeatures=500)\n",
    "\n",
    "kp1 = orb.detect(img1, None)\n",
    "kp2 = orb.detect(img2, None)\n",
    "\n",
    "i1 = cv2.drawKeypoints(img1, kp1, None, color=(0, 255, 0))\n",
    "i2 = cv2.drawKeypoints(img2, kp2, None, color=(0, 255, 0))\n",
    "\n",
    "cv2.imshow(\"yona\", i1)\n",
    "cv2.imshow(\"xoay_yona\", i2)\n",
    "\n",
    "cv2.waitKey(0)\n",
    "cv2.destroyAllWindows()"
   ]
  },
  {
   "cell_type": "code",
   "execution_count": null,
   "id": "7d210da2",
   "metadata": {},
   "outputs": [],
   "source": [
    "import cv2\n",
    "\n",
    "img1 = cv2.imread('yona.jpg')\n",
    "img2 = cv2.imread('xoay_yona.jpg')\n",
    "\n",
    "orb = cv2.ORB_create(nfeatures=50)\n",
    "kp1, des1 = orb.detectAndCompute(img1, None)\n",
    "kp2, des2 = orb.detectAndCompute(img2, None)\n",
    "\n",
    "bf = cv2.BFMatcher(cv2.NORM_HAMMING, crossCheck=True)\n",
    "matches = bf.match(des1, des2)\n",
    "matches = sorted(matches, key=lambda x: x.distance)\n",
    "\n",
    "match_img = cv2.drawMatches(img1, kp1, img2, kp2, matches[:10], None)\n",
    "cv2.imshow('Result', match_img)\n",
    "cv2.waitKey(0)\n",
    "cv2.destroyAllWindows()"
   ]
  },
  {
   "cell_type": "code",
   "execution_count": null,
   "id": "f80f9b95",
   "metadata": {},
   "outputs": [],
   "source": []
  }
 ],
 "metadata": {
  "kernelspec": {
   "display_name": "Python 3 (ipykernel)",
   "language": "python",
   "name": "python3"
  },
  "language_info": {
   "codemirror_mode": {
    "name": "ipython",
    "version": 3
   },
   "file_extension": ".py",
   "mimetype": "text/x-python",
   "name": "python",
   "nbconvert_exporter": "python",
   "pygments_lexer": "ipython3",
   "version": "3.9.13"
  }
 },
 "nbformat": 4,
 "nbformat_minor": 5
}
